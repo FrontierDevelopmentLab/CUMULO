{
 "cells": [
  {
   "cell_type": "code",
   "execution_count": 1,
   "metadata": {},
   "outputs": [],
   "source": [
    "import numpy as np\n",
    "import sys\n",
    "\n",
    "from sklearn.metrics import mean_squared_error, mean_absolute_error, accuracy_score\n",
    "\n",
    "from src.loader import CumuloDataset\n",
    "from src.utils import make_directory"
   ]
  },
  {
   "cell_type": "code",
   "execution_count": 2,
   "metadata": {},
   "outputs": [],
   "source": [
    "data_dir = '../DATA/npz/label/'\n",
    "dataset = CumuloDataset(root_dir=data_dir, ext=\"npz\")"
   ]
  },
  {
   "cell_type": "code",
   "execution_count": 3,
   "metadata": {},
   "outputs": [
    {
     "name": "stdout",
     "output_type": "stream",
     "text": [
      "(1094, 117) (1094,)\n"
     ]
    }
   ],
   "source": [
    "xs = []\n",
    "ys = []\n",
    "\n",
    "for d in dataset:\n",
    "    xs.append(d[1]) # radiances\n",
    "    ys.append(d[4]) # labels\n",
    "\n",
    "shape = xs[0].shape\n",
    "xs = np.vstack(xs).reshape(-1, shape[1] * shape[2] * shape[3]) # flatten tiles\n",
    "ys = np.hstack(ys)\n",
    "\n",
    "print(xs.shape, ys.shape)"
   ]
  },
  {
   "cell_type": "code",
   "execution_count": 4,
   "metadata": {},
   "outputs": [
    {
     "name": "stdout",
     "output_type": "stream",
     "text": [
      "0.0 7.0\n"
     ]
    }
   ],
   "source": [
    "print(min(ys), max(ys))"
   ]
  },
  {
   "cell_type": "code",
   "execution_count": 5,
   "metadata": {},
   "outputs": [
    {
     "name": "stdout",
     "output_type": "stream",
     "text": [
      "(765, 117) (765,) (110, 117) (110,) (219, 117) (219,)\n"
     ]
    }
   ],
   "source": [
    "from sklearn.model_selection import train_test_split\n",
    "\n",
    "train_xs, test_xs, train_ys, test_ys = train_test_split(xs, ys, test_size=0.20, random_state=42)\n",
    "\n",
    "train_xs, val_xs, train_ys, val_ys = train_test_split(train_xs, train_ys, test_size=0.125, random_state=42)\n",
    "\n",
    "print(train_xs.shape, train_ys.shape, val_xs.shape, val_ys.shape, test_xs.shape, test_ys.shape)"
   ]
  },
  {
   "cell_type": "code",
   "execution_count": 6,
   "metadata": {},
   "outputs": [],
   "source": [
    "import lightgbm as lgb\n",
    "\n",
    "lgb_train = lgb.Dataset(train_xs, train_ys)\n",
    "lgb_valid = lgb.Dataset(val_xs, val_ys)"
   ]
  },
  {
   "cell_type": "code",
   "execution_count": 7,
   "metadata": {},
   "outputs": [],
   "source": [
    "params = {\n",
    "    'boosting_type': 'gbdt',\n",
    "    'objective': 'multiclass',\n",
    "    'verbose': 0,\n",
    "    'num_classes': 8,\n",
    "    \"num_iterations\": 100,\n",
    "}"
   ]
  },
  {
   "cell_type": "code",
   "execution_count": 8,
   "metadata": {},
   "outputs": [
    {
     "name": "stderr",
     "output_type": "stream",
     "text": [
      "/usr/local/lib/python3.5/dist-packages/lightgbm/engine.py:148: UserWarning: Found `num_iterations` in params. Will use it instead of argument\n",
      "  warnings.warn(\"Found `{}` in params. Will use it instead of argument\".format(alias))\n"
     ]
    },
    {
     "name": "stdout",
     "output_type": "stream",
     "text": [
      "[1]\tvalid_0's multi_logloss: 1.43781\n",
      "[2]\tvalid_0's multi_logloss: 1.34706\n",
      "[3]\tvalid_0's multi_logloss: 1.26364\n",
      "[4]\tvalid_0's multi_logloss: 1.20397\n",
      "[5]\tvalid_0's multi_logloss: 1.14726\n",
      "[6]\tvalid_0's multi_logloss: 1.10386\n",
      "[7]\tvalid_0's multi_logloss: 1.0622\n",
      "[8]\tvalid_0's multi_logloss: 1.02746\n",
      "[9]\tvalid_0's multi_logloss: 0.998561\n",
      "[10]\tvalid_0's multi_logloss: 0.970639\n",
      "[11]\tvalid_0's multi_logloss: 0.946899\n",
      "[12]\tvalid_0's multi_logloss: 0.933115\n",
      "[13]\tvalid_0's multi_logloss: 0.918787\n",
      "[14]\tvalid_0's multi_logloss: 0.900433\n",
      "[15]\tvalid_0's multi_logloss: 0.88656\n",
      "[16]\tvalid_0's multi_logloss: 0.866991\n",
      "[17]\tvalid_0's multi_logloss: 0.856402\n",
      "[18]\tvalid_0's multi_logloss: 0.845481\n",
      "[19]\tvalid_0's multi_logloss: 0.834886\n",
      "[20]\tvalid_0's multi_logloss: 0.82451\n",
      "[21]\tvalid_0's multi_logloss: 0.811106\n",
      "[22]\tvalid_0's multi_logloss: 0.800759\n",
      "[23]\tvalid_0's multi_logloss: 0.791699\n",
      "[24]\tvalid_0's multi_logloss: 0.785686\n",
      "[25]\tvalid_0's multi_logloss: 0.779878\n",
      "[26]\tvalid_0's multi_logloss: 0.770358\n",
      "[27]\tvalid_0's multi_logloss: 0.765816\n",
      "[28]\tvalid_0's multi_logloss: 0.759562\n",
      "[29]\tvalid_0's multi_logloss: 0.75457\n",
      "[30]\tvalid_0's multi_logloss: 0.752131\n",
      "[31]\tvalid_0's multi_logloss: 0.746671\n",
      "[32]\tvalid_0's multi_logloss: 0.745672\n",
      "[33]\tvalid_0's multi_logloss: 0.742225\n",
      "[34]\tvalid_0's multi_logloss: 0.742265\n",
      "[35]\tvalid_0's multi_logloss: 0.7378\n",
      "[36]\tvalid_0's multi_logloss: 0.736974\n",
      "[37]\tvalid_0's multi_logloss: 0.73778\n",
      "[38]\tvalid_0's multi_logloss: 0.739493\n",
      "[39]\tvalid_0's multi_logloss: 0.737555\n",
      "[40]\tvalid_0's multi_logloss: 0.739607\n",
      "[41]\tvalid_0's multi_logloss: 0.736337\n",
      "[42]\tvalid_0's multi_logloss: 0.735617\n",
      "[43]\tvalid_0's multi_logloss: 0.737134\n",
      "[44]\tvalid_0's multi_logloss: 0.736401\n",
      "[45]\tvalid_0's multi_logloss: 0.736127\n",
      "[46]\tvalid_0's multi_logloss: 0.738108\n",
      "[47]\tvalid_0's multi_logloss: 0.739019\n",
      "[48]\tvalid_0's multi_logloss: 0.740747\n",
      "[49]\tvalid_0's multi_logloss: 0.742685\n",
      "[50]\tvalid_0's multi_logloss: 0.747912\n",
      "[51]\tvalid_0's multi_logloss: 0.750415\n",
      "[52]\tvalid_0's multi_logloss: 0.753005\n",
      "[53]\tvalid_0's multi_logloss: 0.757793\n",
      "[54]\tvalid_0's multi_logloss: 0.760705\n",
      "[55]\tvalid_0's multi_logloss: 0.765001\n",
      "[56]\tvalid_0's multi_logloss: 0.764577\n",
      "[57]\tvalid_0's multi_logloss: 0.768956\n",
      "[58]\tvalid_0's multi_logloss: 0.772464\n",
      "[59]\tvalid_0's multi_logloss: 0.777329\n",
      "[60]\tvalid_0's multi_logloss: 0.784684\n",
      "[61]\tvalid_0's multi_logloss: 0.787419\n",
      "[62]\tvalid_0's multi_logloss: 0.793083\n",
      "[63]\tvalid_0's multi_logloss: 0.793402\n",
      "[64]\tvalid_0's multi_logloss: 0.797786\n",
      "[65]\tvalid_0's multi_logloss: 0.801243\n",
      "[66]\tvalid_0's multi_logloss: 0.805892\n",
      "[67]\tvalid_0's multi_logloss: 0.810884\n",
      "[68]\tvalid_0's multi_logloss: 0.817082\n",
      "[69]\tvalid_0's multi_logloss: 0.824043\n",
      "[70]\tvalid_0's multi_logloss: 0.830175\n",
      "[71]\tvalid_0's multi_logloss: 0.835519\n",
      "[72]\tvalid_0's multi_logloss: 0.840351\n",
      "[73]\tvalid_0's multi_logloss: 0.840552\n",
      "[74]\tvalid_0's multi_logloss: 0.8437\n",
      "[75]\tvalid_0's multi_logloss: 0.851793\n",
      "[76]\tvalid_0's multi_logloss: 0.856617\n",
      "[77]\tvalid_0's multi_logloss: 0.858162\n",
      "[78]\tvalid_0's multi_logloss: 0.861215\n",
      "[79]\tvalid_0's multi_logloss: 0.867473\n",
      "[80]\tvalid_0's multi_logloss: 0.869679\n",
      "[81]\tvalid_0's multi_logloss: 0.878407\n",
      "[82]\tvalid_0's multi_logloss: 0.881269\n",
      "[83]\tvalid_0's multi_logloss: 0.884848\n",
      "[84]\tvalid_0's multi_logloss: 0.891882\n",
      "[85]\tvalid_0's multi_logloss: 0.89326\n",
      "[86]\tvalid_0's multi_logloss: 0.897578\n",
      "[87]\tvalid_0's multi_logloss: 0.90195\n",
      "[88]\tvalid_0's multi_logloss: 0.903445\n",
      "[89]\tvalid_0's multi_logloss: 0.905214\n",
      "[90]\tvalid_0's multi_logloss: 0.910708\n",
      "[91]\tvalid_0's multi_logloss: 0.917582\n",
      "[92]\tvalid_0's multi_logloss: 0.922409\n",
      "[93]\tvalid_0's multi_logloss: 0.926058\n",
      "[94]\tvalid_0's multi_logloss: 0.92808\n",
      "[95]\tvalid_0's multi_logloss: 0.931587\n",
      "[96]\tvalid_0's multi_logloss: 0.936352\n",
      "[97]\tvalid_0's multi_logloss: 0.942266\n",
      "[98]\tvalid_0's multi_logloss: 0.949121\n",
      "[99]\tvalid_0's multi_logloss: 0.952923\n",
      "[100]\tvalid_0's multi_logloss: 0.961133\n"
     ]
    }
   ],
   "source": [
    "gbm = lgb.train(params, lgb_train, valid_sets=[lgb_valid])"
   ]
  },
  {
   "cell_type": "code",
   "execution_count": 9,
   "metadata": {},
   "outputs": [],
   "source": [
    "train_prob_pred = gbm.predict(train_xs, num_iteration = gbm.best_iteration)\n",
    "val_prob_pred = gbm.predict(val_xs, num_iteration = gbm.best_iteration)\n",
    "test_prob_pred = gbm.predict(test_xs, num_iteration = gbm.best_iteration)"
   ]
  },
  {
   "cell_type": "code",
   "execution_count": 10,
   "metadata": {},
   "outputs": [],
   "source": [
    "# take argmax of prediction probabilities\n",
    "train_y_pred = np.argmax(train_prob_pred, 1)\n",
    "val_y_pred = np.argmax(val_prob_pred, 1)\n",
    "test_y_pred = np.argmax(test_prob_pred, 1)"
   ]
  },
  {
   "cell_type": "code",
   "execution_count": 11,
   "metadata": {},
   "outputs": [
    {
     "name": "stdout",
     "output_type": "stream",
     "text": [
      "0.7625570776255708\n"
     ]
    }
   ],
   "source": [
    "accuracy = accuracy_score(test_ys, test_y_pred)\n",
    "print(accuracy)"
   ]
  },
  {
   "cell_type": "code",
   "execution_count": 12,
   "metadata": {},
   "outputs": [],
   "source": [
    "from sklearn.metrics import confusion_matrix\n",
    "\n",
    "train_cm = confusion_matrix(train_ys, train_y_pred, labels=range(8))\n",
    "val_cm = confusion_matrix(val_ys, val_y_pred, labels=range(8))\n",
    "test_cm = confusion_matrix(test_ys, test_y_pred, labels=range(8))\n",
    "\n",
    "# np.save(\"train-confusion-matrix.npy\", train_cm)\n",
    "# np.save(\"test-confusion-matrix.npy\", test_cm)\n",
    "# np.save(\"val-confusion-matrix.npy\", val_cm)"
   ]
  },
  {
   "cell_type": "code",
   "execution_count": 13,
   "metadata": {},
   "outputs": [],
   "source": [
    "def normalize_confusion_matrix(darray):\n",
    "    return (darray / np.sum(darray, 1, keepdims=True)).round(2)"
   ]
  },
  {
   "cell_type": "code",
   "execution_count": 14,
   "metadata": {},
   "outputs": [
    {
     "name": "stderr",
     "output_type": "stream",
     "text": [
      "/home/vale/.local/lib/python3.5/site-packages/ipykernel_launcher.py:2: RuntimeWarning: invalid value encountered in true_divide\n",
      "  \n"
     ]
    },
    {
     "data": {
      "text/plain": [
       "[Text(946.764705882353, 0.5, 'target'), Text(0.5, 24.0, 'predicted')]"
      ]
     },
     "execution_count": 14,
     "metadata": {},
     "output_type": "execute_result"
    },
    {
     "data": {
      "image/png": "[encoded data removed]",
      "text/plain": [
       "<Figure size 1440x360 with 6 Axes>"
      ]
     },
     "metadata": {
      "needs_background": "light"
     },
     "output_type": "display_data"
    }
   ],
   "source": [
    "import seaborn as sn\n",
    "import pandas as pd\n",
    "import matplotlib.pyplot as plt\n",
    "\n",
    "%matplotlib inline\n",
    "\n",
    "# best model, batch weights\n",
    "train_cm, val_cm, test_cm = normalize_confusion_matrix(train_cm), normalize_confusion_matrix(val_cm), normalize_confusion_matrix(test_cm)\n",
    "\n",
    "plt.figure(figsize = (20,5))\n",
    "\n",
    "plt.subplot(131)\n",
    "\n",
    "df_cm = pd.DataFrame(train_cm, index = range(8), columns = range(8))\n",
    "\n",
    "plt.title(\"TRAIN\")\n",
    "ax = sn.heatmap(df_cm, annot=True, vmin=0, vmax=1)\n",
    "ax.set(xlabel='predicted', ylabel='target')\n",
    "\n",
    "plt.subplot(132)\n",
    "\n",
    "df_cm = pd.DataFrame(val_cm, index = range(8), columns = range(8))\n",
    "\n",
    "plt.title(\"VAL\")\n",
    "ax = sn.heatmap(df_cm, annot=True, vmin=0, vmax=1)\n",
    "ax.set(xlabel='predicted', ylabel='target')\n",
    "\n",
    "plt.subplot(133)\n",
    "\n",
    "df_cm = pd.DataFrame(test_cm, index = range(8), columns = range(8))\n",
    "\n",
    "plt.title(\"TEST\")\n",
    "ax = sn.heatmap(df_cm, annot=True, vmin=0, vmax=1)\n",
    "ax.set(xlabel='predicted', ylabel='target')\n",
    "\n",
    "# plt.savefig(\"lightgbm-confusion-matrices.png\", bboxes=\"tight\")"
   ]
  },
  {
   "cell_type": "code",
   "execution_count": 16,
   "metadata": {},
   "outputs": [
    {
     "data": {
      "text/plain": [
       "<lightgbm.basic.Booster at 0x7f33490a4710>"
      ]
     },
     "execution_count": 16,
     "metadata": {},
     "output_type": "execute_result"
    }
   ],
   "source": [
    "make_directory(\"results/lgbm/\")\n",
    "gbm.save_model(\"results/lgbm/lightgbm-model.txt\")"
   ]
  },
  {
   "cell_type": "code",
   "execution_count": null,
   "metadata": {},
   "outputs": [],
   "source": []
  }
 ],
 "metadata": {
  "kernelspec": {
   "display_name": "Python 3",
   "language": "python",
   "name": "python3"
  },
  "language_info": {
   "codemirror_mode": {
    "name": "ipython",
    "version": 3
   },
   "file_extension": ".py",
   "mimetype": "text/x-python",
   "name": "python",
   "nbconvert_exporter": "python",
   "pygments_lexer": "ipython3",
   "version": "3.5.2"
  }
 },
 "nbformat": 4,
 "nbformat_minor": 2
}
